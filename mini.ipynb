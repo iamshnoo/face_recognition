{
  "nbformat": 4,
  "nbformat_minor": 0,
  "metadata": {
    "colab": {
      "name": "mini.ipynb",
      "version": "0.3.2",
      "provenance": [],
      "collapsed_sections": [],
      "include_colab_link": true
    },
    "kernelspec": {
      "name": "python3",
      "display_name": "Python 3"
    },
    "accelerator": "GPU"
  },
  "cells": [
    {
      "cell_type": "markdown",
      "metadata": {
        "id": "view-in-github",
        "colab_type": "text"
      },
      "source": [
        "<a href=\"https://colab.research.google.com/github/iamshnoo/face_recognition/blob/master/mini.ipynb\" target=\"_parent\"><img src=\"https://colab.research.google.com/assets/colab-badge.svg\" alt=\"Open In Colab\"/></a>"
      ]
    },
    {
      "metadata": {
        "id": "BOL4YQ-a7-vX",
        "colab_type": "code",
        "colab": {}
      },
      "cell_type": "code",
      "source": [
        "# import the usual resources\n",
        "import matplotlib.pyplot as plt\n",
        "import numpy as np\n"
      ],
      "execution_count": 0,
      "outputs": []
    },
    {
      "metadata": {
        "id": "fNqFgpwh8SNT",
        "colab_type": "code",
        "outputId": "c665d4e6-a17b-4a5e-d552-8bdb267fa978",
        "colab": {
          "base_uri": "https://localhost:8080/",
          "height": 374
        }
      },
      "cell_type": "code",
      "source": [
        "import torch\n",
        "from torch.autograd import Variable\n",
        "import torch.nn as nn\n",
        "import torch.nn.functional as F\n",
        "# can use the below import should you choose to initialize the weights of your Net\n",
        "import torch.nn.init as I\n",
        "\n",
        "class Net(nn.Module):\n",
        "    \n",
        "    def __init__(self):\n",
        "        super().__init__()\n",
        "        \n",
        "        ## Conv layers\n",
        "        # input of size (1 x 227 x 227)\n",
        "        self.conv1 = nn.Conv2d(in_channels=1, out_channels=96, kernel_size=(4, 4), stride=4, padding=0) # VALID\n",
        "        self.conv2 = nn.Conv2d(in_channels=96, out_channels=256, kernel_size=(5, 5), stride=1, padding=2) # SAME\n",
        "        self.conv3 = nn.Conv2d(in_channels=256, out_channels=384, kernel_size=(3, 3), stride=1, padding=1) # SAME\n",
        "        self.conv4 = nn.Conv2d(in_channels=384, out_channels=384, kernel_size=(3, 3), stride=1, padding=1) # SAME\n",
        "        self.conv5 = nn.Conv2d(in_channels=384, out_channels=256, kernel_size=(3, 3), stride=1, padding=1) # SAME\n",
        "        \n",
        "        ## Max-Pool layer \n",
        "        self.pool = nn.MaxPool2d(kernel_size=3, stride=2)\n",
        "        \n",
        "        ## Linear layers\n",
        "        self.fc1 = nn.Linear(in_features=9216, out_features=4096)\n",
        "        self.fc2 = nn.Linear(in_features=4096, out_features=4096)\n",
        "        self.fc3 = nn.Linear(in_features=4096, out_features=136)\n",
        "        \n",
        "        ## Dropout \n",
        "        self.dropout2 = nn.Dropout(p=0.2)\n",
        "        self.dropout4 = nn.Dropout(p=0.4)\n",
        "        self.dropout6 = nn.Dropout(p=0.6)\n",
        "        \n",
        "        # Batch Normalization\n",
        "        self.bn1 = nn.BatchNorm2d(num_features=96, eps=1e-05)\n",
        "        self.bn2 = nn.BatchNorm2d(num_features=256, eps=1e-05)\n",
        "        self.bn3 = nn.BatchNorm2d(num_features=384, eps=1e-05)\n",
        "        self.bn4 = nn.BatchNorm2d(num_features=384, eps=1e-05)\n",
        "        self.bn5 = nn.BatchNorm2d(num_features=256, eps=1e-05)\n",
        "        self.bn6 = nn.BatchNorm1d(num_features=4096, eps=1e-05)\n",
        "        self.bn7 = nn.BatchNorm1d(num_features=4096, eps=1e-05)\n",
        "        \n",
        "        ## Local response normalization\n",
        "        # if size=r=2 and a neuron has a strong activation, it will inhibit the activation\n",
        "        # of the neurons located in the feature maps immediately above and below its own.\n",
        "#         self.lrn = LocalResponseNorm(size=2, alpha=0.00002, beta=0.75, k=1)  # lrn is on new pytorch version apparently\n",
        "        \n",
        "        # Custom weights initialization\n",
        "        for m in self.modules():\n",
        "            if isinstance(m, nn.Conv2d):\n",
        "                m.weight = nn.init.xavier_uniform_(m.weight, gain=1)\n",
        "            elif isinstance(m, nn.Linear):\n",
        "                # FC layers have weights initialized with Glorot uniform initialization\n",
        "                m.weight = nn.init.xavier_uniform_(m.weight, gain=1)\n",
        "\n",
        "    def forward(self, x):\n",
        "        \n",
        "        ## Conv layers\n",
        "        x = F.elu(self.conv1(x))\n",
        "        x = self.pool(x)\n",
        "        x = self.dropout2(x)\n",
        "        \n",
        "        x = F.elu(self.conv2(x))\n",
        "        x = self.bn2(x)\n",
        "        x = self.pool(x)\n",
        "        \n",
        "        x = F.elu(self.conv3(x))\n",
        "        x = self.bn3(x)\n",
        "        x = self.dropout4(x)\n",
        "        \n",
        "        x = F.elu(self.conv4(x))\n",
        "        x = self.bn4(x)\n",
        "        x = self.dropout4(x)\n",
        "        \n",
        "        x = F.elu(self.conv5(x))\n",
        "        x = self.bn5(x)\n",
        "        x = self.pool(x)\n",
        "\n",
        "        ## Flatten\n",
        "        x = x.view(x.size(0), -1) \n",
        "        \n",
        "        ## Fully connected layers\n",
        "        x = F.elu(self.fc1(x))\n",
        "        x = self.bn6(x)\n",
        "        x = self.dropout6(x)\n",
        "        \n",
        "        x = F.elu(self.fc2(x))\n",
        "        x = self.bn6(x)\n",
        "        x = self.dropout6(x)\n",
        "        \n",
        "\n",
        "        x = self.fc3(x)\n",
        "    \n",
        "        return x\n",
        "'''\n",
        "class Net(nn.Module):\n",
        "\n",
        "    def __init__(self):\n",
        "        super(Net, self).__init__()\n",
        "        \n",
        "        ## TODO: Define all the layers of this CNN, the only requirements are:\n",
        "        ## 1. This network takes in a square (same width and height), grayscale image as input\n",
        "        ## 2. It ends with a linear layer that represents the keypoints\n",
        "        ## it's suggested that you make this last layer output 136 values, 2 for each of the 68 keypoint (x, y) pairs      \n",
        "        # As an example, you've been given a convolutional layer, which you may (but don't have to) change:\n",
        "        # 1 input image channel (grayscale), 32 output channels/feature maps, 5x5 square convolution kernel       \n",
        "        ## input image size is 224 * 224 pixels        \n",
        "        # first convolutional layer\n",
        "        ## (W-F)/S + 1 = (224-5)/1 + 1 = 220\n",
        "        ## self.conv1 = nn.Conv2d(1, 32, 5) # the output Tensor for one image, will have the dimensions: (32, 220, 220)\n",
        "        \n",
        "        # NOTE : This netork architecture is largely based on the LeNet Architecture with some modifications \n",
        "        #        to suit the needs of this project and the constraints of my hardware.\n",
        "       \n",
        "        ## input image size is 96 * 96 pixels\n",
        "        # input image size is 224 * 224 pixels\n",
        "        # first convolutional layer\n",
        "        self.conv1 = torch.nn.Conv2d(1,32,5) # (32,220,220) output tensor # (W-F)/S + 1 = (224-5)/1 + 1 = 220\n",
        "        \n",
        "        # first Max-pooling layer\n",
        "        self.pool1 = torch.nn.MaxPool2d(2,2) # (32,110,110) output tensor\n",
        "        \n",
        "        # second convolutional layer\n",
        "        self.conv2 = torch.nn.Conv2d(32,64,5) # (64,106,106) output tensor # (W-F)/S + 1 = (110-5)/1 + 1 = 106\n",
        "        \n",
        "        # second Max-pooling layer\n",
        "        self.pool2 = torch.nn.MaxPool2d(2,2) # (64,53,53) output tensor\n",
        "        \n",
        "        # Fully connected layer\n",
        "        self.fc1 = torch.nn.Linear(64*53*53, 1000)   \n",
        "        self.fc2 = torch.nn.Linear(1000, 500)       \n",
        "        self.fc3 = torch.nn.Linear(500, 136)        \n",
        "        self.drop1 = nn.Dropout(p=0.4)\n",
        "        self.drop2 = nn.Dropout(p=0.3)\n",
        "        \n",
        "        \n",
        "        \n",
        "        ## Note that among the layers to add, consider including:\n",
        "        # maxpooling layers, multiple conv layers, fully-connected layers, and other layers (such as dropout or batch normalization) to avoid overfitting\n",
        "        \n",
        "\n",
        "        \n",
        "    def forward(self, x):\n",
        "        ## TODO: Define the feedforward behavior of this model\n",
        "        ## x is the input image and, as an example, here you may choose to include a pool/conv step:\n",
        "        ## x = self.pool(F.relu(self.conv1(x)))\n",
        "        \n",
        "        x = self.conv1(x)\n",
        "        x = F.relu(x)\n",
        "        x = self.pool1(x)\n",
        "          \n",
        "        x = self.conv2(x)\n",
        "        x = F.relu(x)\n",
        "        x = self.pool2(x)\n",
        "        x = self.drop1(x)\n",
        "      \n",
        "        # Flatten before passing to the fully-connected layers.\n",
        "        x = x.view(x.size(0), -1)\n",
        "        \n",
        "        x = self.fc1(x)\n",
        "        x = F.relu(x)\n",
        "        x = self.drop1(x)\n",
        "        \n",
        "        x = self.fc2(x)\n",
        "        x = F.relu(x)\n",
        "        x = self.drop2(x)\n",
        "        \n",
        "        x = self.fc3(x)\n",
        "        \n",
        "        # a modified x, having gone through all the layers of your model, should be returned\n",
        "        return x\n",
        "\n",
        "'''\n",
        "\n",
        "# I tried to use my laptop's gpu. It wasn't working properly.\n",
        "device = torch.device(\"cuda:0\" if torch.cuda.is_available() else \"cpu\") \n",
        "\n",
        "net = Net()\n",
        "net.to(device)\n",
        "print(net)"
      ],
      "execution_count": 50,
      "outputs": [
        {
          "output_type": "stream",
          "text": [
            "Net(\n",
            "  (conv1): Conv2d(1, 96, kernel_size=(4, 4), stride=(4, 4))\n",
            "  (conv2): Conv2d(96, 256, kernel_size=(5, 5), stride=(1, 1), padding=(2, 2))\n",
            "  (conv3): Conv2d(256, 384, kernel_size=(3, 3), stride=(1, 1), padding=(1, 1))\n",
            "  (conv4): Conv2d(384, 384, kernel_size=(3, 3), stride=(1, 1), padding=(1, 1))\n",
            "  (conv5): Conv2d(384, 256, kernel_size=(3, 3), stride=(1, 1), padding=(1, 1))\n",
            "  (pool): MaxPool2d(kernel_size=3, stride=2, padding=0, dilation=1, ceil_mode=False)\n",
            "  (fc1): Linear(in_features=9216, out_features=4096, bias=True)\n",
            "  (fc2): Linear(in_features=4096, out_features=4096, bias=True)\n",
            "  (fc3): Linear(in_features=4096, out_features=136, bias=True)\n",
            "  (dropout2): Dropout(p=0.2)\n",
            "  (dropout4): Dropout(p=0.4)\n",
            "  (dropout6): Dropout(p=0.6)\n",
            "  (bn1): BatchNorm2d(96, eps=1e-05, momentum=0.1, affine=True, track_running_stats=True)\n",
            "  (bn2): BatchNorm2d(256, eps=1e-05, momentum=0.1, affine=True, track_running_stats=True)\n",
            "  (bn3): BatchNorm2d(384, eps=1e-05, momentum=0.1, affine=True, track_running_stats=True)\n",
            "  (bn4): BatchNorm2d(384, eps=1e-05, momentum=0.1, affine=True, track_running_stats=True)\n",
            "  (bn5): BatchNorm2d(256, eps=1e-05, momentum=0.1, affine=True, track_running_stats=True)\n",
            "  (bn6): BatchNorm1d(4096, eps=1e-05, momentum=0.1, affine=True, track_running_stats=True)\n",
            "  (bn7): BatchNorm1d(4096, eps=1e-05, momentum=0.1, affine=True, track_running_stats=True)\n",
            ")\n"
          ],
          "name": "stdout"
        }
      ]
    },
    {
      "metadata": {
        "id": "r5S1Vsog80CU",
        "colab_type": "code",
        "outputId": "775af226-9bbe-4562-fc38-436675be1725",
        "colab": {
          "base_uri": "https://localhost:8080/",
          "height": 258
        }
      },
      "cell_type": "code",
      "source": [
        "# load the data if you need to; if you have already loaded the data, you may comment this cell out\n",
        "# -- DO NOT CHANGE THIS CELL -- #\n",
        "!mkdir /data\n",
        "!wget -P /data/ https://s3.amazonaws.com/video.udacity-data.com/topher/2018/May/5aea1b91_train-test-data/train-test-data.zip\n",
        "!unzip -n /data/train-test-data.zip -d /data"
      ],
      "execution_count": 51,
      "outputs": [
        {
          "output_type": "stream",
          "text": [
            "mkdir: cannot create directory ‘/data’: File exists\n",
            "--2019-03-26 10:02:30--  https://s3.amazonaws.com/video.udacity-data.com/topher/2018/May/5aea1b91_train-test-data/train-test-data.zip\n",
            "Resolving s3.amazonaws.com (s3.amazonaws.com)... 54.231.82.12\n",
            "Connecting to s3.amazonaws.com (s3.amazonaws.com)|54.231.82.12|:443... connected.\n",
            "HTTP request sent, awaiting response... 200 OK\n",
            "Length: 338613624 (323M) [application/zip]\n",
            "Saving to: ‘/data/train-test-data.zip.2’\n",
            "\n",
            "train-test-data.zip 100%[===================>] 322.93M  73.2MB/s    in 4.4s    \n",
            "\n",
            "2019-03-26 10:02:34 (73.2 MB/s) - ‘/data/train-test-data.zip.2’ saved [338613624/338613624]\n",
            "\n",
            "Archive:  /data/train-test-data.zip\n"
          ],
          "name": "stdout"
        }
      ]
    },
    {
      "metadata": {
        "id": "CNkCc5oN923b",
        "colab_type": "code",
        "colab": {}
      },
      "cell_type": "code",
      "source": [
        "import glob\n",
        "import os\n",
        "import torch\n",
        "from torch.utils.data import Dataset, DataLoader\n",
        "import numpy as np\n",
        "import matplotlib.image as mpimg\n",
        "import pandas as pd\n",
        "import cv2\n",
        "\n",
        "\n",
        "class FacialKeypointsDataset(Dataset):\n",
        "    \"\"\"Face Landmarks dataset.\"\"\"\n",
        "\n",
        "    def __init__(self, csv_file, root_dir, transform=None):\n",
        "        \"\"\"\n",
        "        Args:\n",
        "            csv_file (string): Path to the csv file with annotations.\n",
        "            root_dir (string): Directory with all the images.\n",
        "            transform (callable, optional): Optional transform to be applied\n",
        "                on a sample.\n",
        "        \"\"\"\n",
        "        self.key_pts_frame = pd.read_csv(csv_file)\n",
        "        self.root_dir = root_dir\n",
        "        self.transform = transform\n",
        "\n",
        "    def __len__(self):\n",
        "        return len(self.key_pts_frame)\n",
        "\n",
        "    def __getitem__(self, idx):\n",
        "        image_name = os.path.join(self.root_dir,\n",
        "                                self.key_pts_frame.iloc[idx, 0])\n",
        "        \n",
        "        image = mpimg.imread(image_name)\n",
        "        \n",
        "        # if image has an alpha color channel, get rid of it\n",
        "        if(image.shape[2] == 4):\n",
        "            image = image[:,:,0:3]\n",
        "        \n",
        "        key_pts = self.key_pts_frame.iloc[idx, 1:].as_matrix()\n",
        "        key_pts = key_pts.astype('float').reshape(-1, 2)\n",
        "        sample = {'image': image, 'keypoints': key_pts}\n",
        "\n",
        "        if self.transform:\n",
        "            sample = self.transform(sample)\n",
        "\n",
        "        return sample\n",
        "    \n",
        "\n",
        "    \n",
        "# tranforms\n",
        "\n",
        "class Normalize(object):\n",
        "    \"\"\"Convert a color image to grayscale and normalize the color range to [0,1].\"\"\"        \n",
        "\n",
        "    def __call__(self, sample):\n",
        "        image, key_pts = sample['image'], sample['keypoints']\n",
        "        \n",
        "        image_copy = np.copy(image)\n",
        "        key_pts_copy = np.copy(key_pts)\n",
        "\n",
        "        # convert image to grayscale\n",
        "        image_copy = cv2.cvtColor(image, cv2.COLOR_RGB2GRAY)\n",
        "        \n",
        "        # scale color range from [0, 255] to [0, 1]\n",
        "        image_copy=  image_copy/255.0\n",
        "            \n",
        "        \n",
        "        # scale keypoints to be centered around 0 with a range of [-1, 1]\n",
        "        # mean = 100, sqrt = 50, so, pts should be (pts - 100)/50\n",
        "        key_pts_copy = (key_pts_copy - 100)/50.0\n",
        "\n",
        "\n",
        "        return {'image': image_copy, 'keypoints': key_pts_copy}\n",
        "\n",
        "\n",
        "class Rescale(object):\n",
        "    \"\"\"Rescale the image in a sample to a given size.\n",
        "\n",
        "    Args:\n",
        "        output_size (tuple or int): Desired output size. If tuple, output is\n",
        "            matched to output_size. If int, smaller of image edges is matched\n",
        "            to output_size keeping aspect ratio the same.\n",
        "    \"\"\"\n",
        "\n",
        "    def __init__(self, output_size):\n",
        "        assert isinstance(output_size, (int, tuple))\n",
        "        self.output_size = output_size\n",
        "\n",
        "    def __call__(self, sample):\n",
        "        image, key_pts = sample['image'], sample['keypoints']\n",
        "\n",
        "        h, w = image.shape[:2]\n",
        "        if isinstance(self.output_size, int):\n",
        "            if h > w:\n",
        "                new_h, new_w = self.output_size * h / w, self.output_size\n",
        "            else:\n",
        "                new_h, new_w = self.output_size, self.output_size * w / h\n",
        "        else:\n",
        "            new_h, new_w = self.output_size\n",
        "\n",
        "        new_h, new_w = int(new_h), int(new_w)\n",
        "\n",
        "        img = cv2.resize(image, (new_w, new_h))\n",
        "        \n",
        "        # scale the pts, too\n",
        "        key_pts = key_pts * [new_w / w, new_h / h]\n",
        "\n",
        "        return {'image': img, 'keypoints': key_pts}\n",
        "\n",
        "\n",
        "class RandomCrop(object):\n",
        "    \"\"\"Crop randomly the image in a sample.\n",
        "\n",
        "    Args:\n",
        "        output_size (tuple or int): Desired output size. If int, square crop\n",
        "            is made.\n",
        "    \"\"\"\n",
        "\n",
        "    def __init__(self, output_size):\n",
        "        assert isinstance(output_size, (int, tuple))\n",
        "        if isinstance(output_size, int):\n",
        "            self.output_size = (output_size, output_size)\n",
        "        else:\n",
        "            assert len(output_size) == 2\n",
        "            self.output_size = output_size\n",
        "\n",
        "    def __call__(self, sample):\n",
        "        image, key_pts = sample['image'], sample['keypoints']\n",
        "\n",
        "        h, w = image.shape[:2]\n",
        "        new_h, new_w = self.output_size\n",
        "\n",
        "        top = np.random.randint(0, h - new_h)\n",
        "        left = np.random.randint(0, w - new_w)\n",
        "\n",
        "        image = image[top: top + new_h,\n",
        "                      left: left + new_w]\n",
        "\n",
        "        key_pts = key_pts - [left, top]\n",
        "\n",
        "        return {'image': image, 'keypoints': key_pts}\n",
        "\n",
        "\n",
        "class ToTensor(object):\n",
        "    \"\"\"Convert ndarrays in sample to Tensors.\"\"\"\n",
        "\n",
        "    def __call__(self, sample):\n",
        "        image, key_pts = sample['image'], sample['keypoints']\n",
        "         \n",
        "        # if image has no grayscale color channel, add one\n",
        "        if(len(image.shape) == 2):\n",
        "            # add that third color dim\n",
        "            image = image.reshape(image.shape[0], image.shape[1], 1)\n",
        "            \n",
        "        # swap color axis because\n",
        "        # numpy image: H x W x C\n",
        "        # torch image: C X H X W\n",
        "        image = image.transpose((2, 0, 1))\n",
        "        \n",
        "        return {'image': torch.from_numpy(image),\n",
        "                'keypoints': torch.from_numpy(key_pts)}"
      ],
      "execution_count": 0,
      "outputs": []
    },
    {
      "metadata": {
        "id": "bdtL8MaL9hOs",
        "colab_type": "code",
        "colab": {}
      },
      "cell_type": "code",
      "source": [
        "from torchvision import transforms, utils\n",
        "\n",
        "## TODO: define the data_transform using transforms.Compose([all tx's, . , .])\n",
        "# order matters! i.e. rescaling should come before a smaller crop\n",
        "data_transform = transforms.Compose( [Rescale(250) , RandomCrop(227) , Normalize() , ToTensor()] )\n",
        "                                     \n",
        "# testing that you've defined a transform\n",
        "assert(data_transform is not None), 'Define a data_transform'"
      ],
      "execution_count": 0,
      "outputs": []
    },
    {
      "metadata": {
        "id": "rcRLyhq8_2kE",
        "colab_type": "code",
        "outputId": "97b2c057-11c6-4097-b96b-b03e11d80d7d",
        "colab": {
          "base_uri": "https://localhost:8080/",
          "height": 102
        }
      },
      "cell_type": "code",
      "source": [
        "# create the transformed dataset\n",
        "transformed_dataset = FacialKeypointsDataset(csv_file='/data/training_frames_keypoints.csv',\n",
        "                                             root_dir='/data/training/',\n",
        "                                             transform=data_transform)\n",
        "\n",
        "\n",
        "print('Number of images: ', len(transformed_dataset))\n",
        "\n",
        "# iterate through the transformed dataset and print some stats about the first few samples\n",
        "for i in range(4):\n",
        "    sample = transformed_dataset[i]\n",
        "    print(i, sample['image'].size(), sample['keypoints'].size())"
      ],
      "execution_count": 61,
      "outputs": [
        {
          "output_type": "stream",
          "text": [
            "Number of images:  3462\n",
            "0 torch.Size([1, 227, 227]) torch.Size([68, 2])\n",
            "1 torch.Size([1, 227, 227]) torch.Size([68, 2])\n",
            "2 torch.Size([1, 227, 227]) torch.Size([68, 2])\n",
            "3 torch.Size([1, 227, 227]) torch.Size([68, 2])\n"
          ],
          "name": "stdout"
        }
      ]
    },
    {
      "metadata": {
        "id": "nCLg1s26AI4i",
        "colab_type": "code",
        "colab": {}
      },
      "cell_type": "code",
      "source": [
        "# load training data in batches\n",
        "batch_size = 40\n",
        "\n",
        "train_loader = DataLoader(transformed_dataset, \n",
        "                          batch_size=batch_size,\n",
        "                          shuffle=True, \n",
        "                          num_workers=4)\n"
      ],
      "execution_count": 0,
      "outputs": []
    },
    {
      "metadata": {
        "id": "E-VkSqBBANJV",
        "colab_type": "code",
        "colab": {}
      },
      "cell_type": "code",
      "source": [
        "# load in the test data, using the dataset class\n",
        "# AND apply the data_transform you defined above\n",
        "\n",
        "# create the test dataset\n",
        "test_dataset = FacialKeypointsDataset(csv_file='/data/test_frames_keypoints.csv',\n",
        "                                             root_dir='/data/test/',\n",
        "                                             transform=data_transform)\n"
      ],
      "execution_count": 0,
      "outputs": []
    },
    {
      "metadata": {
        "id": "XFzaH5OzAQZ-",
        "colab_type": "code",
        "colab": {}
      },
      "cell_type": "code",
      "source": [
        "# load test data in batches\n",
        "batch_size = 40\n",
        "\n",
        "test_loader = DataLoader(test_dataset, \n",
        "                          batch_size=batch_size,\n",
        "                          shuffle=True, \n",
        "                          num_workers=4)"
      ],
      "execution_count": 0,
      "outputs": []
    },
    {
      "metadata": {
        "id": "0JurzIgPAUcB",
        "colab_type": "code",
        "colab": {}
      },
      "cell_type": "code",
      "source": [
        "# test the model on a batch of test images\n",
        "\n",
        "def net_sample_output():\n",
        "    \n",
        "    # iterate through the test dataset\n",
        "    for i, sample in enumerate(test_loader):\n",
        "        \n",
        "        # get sample data: images and ground truth keypoints\n",
        "        images = sample['image']\n",
        "        key_pts = sample['keypoints']\n",
        "\n",
        "        # convert images to FloatTensors\n",
        "        images = images.type(torch.FloatTensor)\n",
        "        \n",
        "        # I tried to use my laptop's gpu. It wasn't working properly.\n",
        "        images = images.to(device)\n",
        "        key_pts = key_pts.to(device)\n",
        "        \n",
        "        # forward pass to get net output\n",
        "        output_pts = net(images)\n",
        "        \n",
        "        # reshape to batch_size x 68 x 2 pts\n",
        "        output_pts = output_pts.view(output_pts.size()[0], 68, -1)\n",
        "        \n",
        "        # break after first image is tested\n",
        "        if i == 0:\n",
        "            return images, output_pts, key_pts\n",
        "            "
      ],
      "execution_count": 0,
      "outputs": []
    },
    {
      "metadata": {
        "id": "rMx0SUFVAXdO",
        "colab_type": "code",
        "outputId": "dcf7f726-b3ea-4a75-f70f-0a61c88b4cd0",
        "colab": {
          "base_uri": "https://localhost:8080/",
          "height": 68
        }
      },
      "cell_type": "code",
      "source": [
        "# call the above function\n",
        "# returns: test images, test predicted keypoints, test ground truth keypoints\n",
        "test_images, test_outputs, gt_pts = net_sample_output()\n",
        "\n",
        "# print out the dimensions of the data to see if they make sense\n",
        "print(test_images.data.size())\n",
        "print(test_outputs.data.size())\n",
        "print(gt_pts.size())"
      ],
      "execution_count": 69,
      "outputs": [
        {
          "output_type": "stream",
          "text": [
            "torch.Size([40, 1, 227, 227])\n",
            "torch.Size([40, 68, 2])\n",
            "torch.Size([40, 68, 2])\n"
          ],
          "name": "stdout"
        }
      ]
    },
    {
      "metadata": {
        "id": "FyHqNAClAaw2",
        "colab_type": "code",
        "colab": {}
      },
      "cell_type": "code",
      "source": [
        "def show_all_keypoints(image, predicted_key_pts, gt_pts=None):\n",
        "    \"\"\"Show image with predicted keypoints\"\"\"\n",
        "    # image is grayscale\n",
        "    plt.imshow(image, cmap='gray')\n",
        "    plt.scatter(predicted_key_pts[:, 0], predicted_key_pts[:, 1], s=20, marker='.', c='m')\n",
        "    # plot ground truth points as green pts\n",
        "    if gt_pts is not None:\n",
        "        plt.scatter(gt_pts[:, 0], gt_pts[:, 1], s=20, marker='.', c='g')\n"
      ],
      "execution_count": 0,
      "outputs": []
    },
    {
      "metadata": {
        "id": "4iyA874FAcEx",
        "colab_type": "code",
        "outputId": "04a6c34b-a943-4a9d-d621-9d1130156bdf",
        "colab": {
          "base_uri": "https://localhost:8080/",
          "height": 645
        }
      },
      "cell_type": "code",
      "source": [
        "# visualize the output\n",
        "# by default this shows a batch of 5 images\n",
        "def visualize_output(test_images, test_outputs, gt_pts=None, batch_size=5):\n",
        "\n",
        "    for i in range(batch_size):\n",
        "        plt.figure(figsize=(20,10))\n",
        "        ax = plt.subplot( batch_size, 1, i+1)\n",
        "        \n",
        "        # un-transform the image data\n",
        "        image = test_images[i].data   # get the image from it's Variable wrapper\n",
        "        \n",
        "        # I tried to use my laptop's gpu. It wasn't working properly.\n",
        "        if torch.cuda.is_available():\n",
        "            image = image.cpu()\n",
        "            \n",
        "        image = image.data\n",
        "        image = image.numpy()   # convert to numpy array from a Tensor\n",
        "        image = np.transpose(image, (1, 2, 0))   # transpose to go from torch to numpy image\n",
        "\n",
        "        # un-transform the predicted key_pts data\n",
        "        predicted_key_pts = test_outputs[i].data\n",
        "        \n",
        "        # I tried to use my laptop's gpu. It wasn't working properly.\n",
        "        if torch.cuda.is_available():\n",
        "            predicted_key_pts = predicted_key_pts.cpu()\n",
        "            \n",
        "        predicted_key_pts = predicted_key_pts.data\n",
        "        predicted_key_pts = predicted_key_pts.numpy()\n",
        "        \n",
        "        # undo normalization of keypoints  \n",
        "        predicted_key_pts = predicted_key_pts*50.0+100\n",
        "        \n",
        "        # plot ground truth points for comparison, if they exist\n",
        "        ground_truth_pts = None\n",
        "        \n",
        "        if gt_pts is not None:\n",
        "            \n",
        "            ground_truth_pts = gt_pts[i] \n",
        "            \n",
        "            # I tried to use my laptop's gpu. It wasn't working properly.\n",
        "            if torch.cuda.is_available():\n",
        "                ground_truth_pts = ground_truth_pts.cpu()  \n",
        "                \n",
        "            ground_truth_pts = ground_truth_pts*50.0+100\n",
        "        \n",
        "        # call show_all_keypoints\n",
        "        show_all_keypoints(np.squeeze(image), predicted_key_pts, ground_truth_pts)\n",
        "            \n",
        "        plt.axis('off')\n",
        "\n",
        "    plt.show()\n",
        "    \n",
        "# call it\n",
        "visualize_output(test_images, test_outputs, gt_pts)"
      ],
      "execution_count": 75,
      "outputs": [
        {
          "output_type": "display_data",
          "data": {
            "image/png": "[encoded data removed]",
            "text/plain": [
              "<Figure size 1440x720 with 1 Axes>"
            ]
          },
          "metadata": {
            "tags": []
          }
        },
        {
          "output_type": "display_data",
          "data": {
            "image/png": "[encoded data removed]",
            "text/plain": [
              "<Figure size 1440x720 with 1 Axes>"
            ]
          },
          "metadata": {
            "tags": []
          }
        },
        {
          "output_type": "display_data",
          "data": {
            "image/png": "[encoded data removed]",
            "text/plain": [
              "<Figure size 1440x720 with 1 Axes>"
            ]
          },
          "metadata": {
            "tags": []
          }
        },
        {
          "output_type": "display_data",
          "data": {
            "image/png": "[encoded data removed]",
            "text/plain": [
              "<Figure size 1440x720 with 1 Axes>"
            ]
          },
          "metadata": {
            "tags": []
          }
        },
        {
          "output_type": "display_data",
          "data": {
            "image/png": "[encoded data removed]",
            "text/plain": [
              "<Figure size 1440x720 with 1 Axes>"
            ]
          },
          "metadata": {
            "tags": []
          }
        }
      ]
    },
    {
      "metadata": {
        "id": "MNF9yPl7A_u2",
        "colab_type": "code",
        "colab": {}
      },
      "cell_type": "code",
      "source": [
        "## TODO: Define the loss and optimization\n",
        "import torch.optim as optim\n",
        "\n",
        "criterion = nn.SmoothL1Loss()\n",
        "# criterion = nn.MSELoss() # not giving much better accuracy as of the all attempts I made.\n",
        "\n",
        "optimizer = optim.Adam(net.parameters(), lr = 0.001)"
      ],
      "execution_count": 0,
      "outputs": []
    },
    {
      "metadata": {
        "id": "YCGj2gWkBBZn",
        "colab_type": "code",
        "colab": {}
      },
      "cell_type": "code",
      "source": [
        "def train_net(n_epochs):\n",
        "\n",
        "    # prepare the net for training\n",
        "    net.train()\n",
        "\n",
        "    for epoch in range(n_epochs):  # loop over the dataset multiple times\n",
        "        # print('Epoch: {}'.format(epoch + 1)) # for debugging\n",
        "        running_loss = 0.0\n",
        "\n",
        "        # train on batches of data, assumes you already have train_loader\n",
        "        for batch_i, data in enumerate(train_loader):\n",
        "            #print('Batch: {}'.format(batch_i+1)) # for debugging\n",
        "            # get the input images and their corresponding labels\n",
        "            images = data['image']\n",
        "            key_pts = data['keypoints']\n",
        "\n",
        "            # flatten pts\n",
        "            key_pts = key_pts.view(key_pts.size(0), -1)\n",
        "\n",
        "            # convert variables to floats for regression loss\n",
        "            key_pts = key_pts.type(torch.FloatTensor)\n",
        "            images = images.type(torch.FloatTensor)\n",
        "            key_pts, images = key_pts.to(device), images.to(device)\n",
        "\n",
        "            # forward pass to get outputs\n",
        "            output_pts = net(images)\n",
        "\n",
        "            # calculate the loss between predicted and target keypoints\n",
        "            loss = criterion(output_pts, key_pts)\n",
        "\n",
        "            # zero the parameter (weight) gradients\n",
        "            optimizer.zero_grad()\n",
        "\n",
        "            # backward pass to calculate the weight gradients\n",
        "            loss.backward()\n",
        "\n",
        "            # update the weights\n",
        "            optimizer.step()\n",
        "\n",
        "            # print loss statistics\n",
        "            running_loss += loss.item()\n",
        "            if batch_i % 10 == 9:    # print every 10 batches\n",
        "                print('Epoch: {}, Batch: {}, Avg. Loss: {}'.format(epoch + 1, batch_i+1, running_loss/10))\n",
        "                running_loss = 0.0\n",
        "\n",
        "    print('Finished Training')\n"
      ],
      "execution_count": 0,
      "outputs": []
    },
    {
      "metadata": {
        "id": "CpQoRI6zBFZy",
        "colab_type": "code",
        "outputId": "273940de-2a7c-4c28-8322-602909182eb2",
        "colab": {
          "base_uri": "https://localhost:8080/",
          "height": 4114
        }
      },
      "cell_type": "code",
      "source": [
        "# train your network\n",
        "n_epochs = 30 # start small, and increase when you've decided on your model structure and hyperparams\n",
        "\n",
        "train_net(n_epochs)"
      ],
      "execution_count": 81,
      "outputs": [
        {
          "output_type": "stream",
          "text": [
            "Epoch: 1, Batch: 10, Avg. Loss: 0.11158340573310851\n",
            "Epoch: 1, Batch: 20, Avg. Loss: 0.1130926713347435\n",
            "Epoch: 1, Batch: 30, Avg. Loss: 0.11026529669761657\n",
            "Epoch: 1, Batch: 40, Avg. Loss: 0.10258268937468529\n",
            "Epoch: 1, Batch: 50, Avg. Loss: 0.10231155976653099\n",
            "Epoch: 1, Batch: 60, Avg. Loss: 0.10084166526794433\n",
            "Epoch: 1, Batch: 70, Avg. Loss: 0.09760139435529709\n",
            "Epoch: 1, Batch: 80, Avg. Loss: 0.10677219033241273\n",
            "Epoch: 2, Batch: 10, Avg. Loss: 0.09353654682636262\n",
            "Epoch: 2, Batch: 20, Avg. Loss: 0.09769986048340798\n",
            "Epoch: 2, Batch: 30, Avg. Loss: 0.10181592702865601\n",
            "Epoch: 2, Batch: 40, Avg. Loss: 0.1024124264717102\n",
            "Epoch: 2, Batch: 50, Avg. Loss: 0.09246866852045059\n",
            "Epoch: 2, Batch: 60, Avg. Loss: 0.09283061996102333\n",
            "Epoch: 2, Batch: 70, Avg. Loss: 0.09068194925785064\n",
            "Epoch: 2, Batch: 80, Avg. Loss: 0.09116013422608375\n",
            "Epoch: 3, Batch: 10, Avg. Loss: 0.09673741385340691\n",
            "Epoch: 3, Batch: 20, Avg. Loss: 0.08423674628138542\n",
            "Epoch: 3, Batch: 30, Avg. Loss: 0.08444224372506141\n",
            "Epoch: 3, Batch: 40, Avg. Loss: 0.08962123692035676\n",
            "Epoch: 3, Batch: 50, Avg. Loss: 0.08606398031115532\n",
            "Epoch: 3, Batch: 60, Avg. Loss: 0.08573655784130096\n",
            "Epoch: 3, Batch: 70, Avg. Loss: 0.08244512975215912\n",
            "Epoch: 3, Batch: 80, Avg. Loss: 0.08702462464571\n",
            "Epoch: 4, Batch: 10, Avg. Loss: 0.09143875986337661\n",
            "Epoch: 4, Batch: 20, Avg. Loss: 0.07878618985414505\n",
            "Epoch: 4, Batch: 30, Avg. Loss: 0.08283712640404702\n",
            "Epoch: 4, Batch: 40, Avg. Loss: 0.08229768872261048\n",
            "Epoch: 4, Batch: 50, Avg. Loss: 0.07862175926566124\n",
            "Epoch: 4, Batch: 60, Avg. Loss: 0.07286817841231823\n",
            "Epoch: 4, Batch: 70, Avg. Loss: 0.07073354907333851\n",
            "Epoch: 4, Batch: 80, Avg. Loss: 0.0730097882449627\n",
            "Epoch: 5, Batch: 10, Avg. Loss: 0.07744014449417591\n",
            "Epoch: 5, Batch: 20, Avg. Loss: 0.07335936762392521\n",
            "Epoch: 5, Batch: 30, Avg. Loss: 0.0776463869959116\n",
            "Epoch: 5, Batch: 40, Avg. Loss: 0.07809340953826904\n",
            "Epoch: 5, Batch: 50, Avg. Loss: 0.06778498478233815\n",
            "Epoch: 5, Batch: 60, Avg. Loss: 0.07077699080109597\n",
            "Epoch: 5, Batch: 70, Avg. Loss: 0.07541935332119465\n",
            "Epoch: 5, Batch: 80, Avg. Loss: 0.07160154059529304\n",
            "Epoch: 6, Batch: 10, Avg. Loss: 0.07475315183401107\n",
            "Epoch: 6, Batch: 20, Avg. Loss: 0.07802975848317147\n",
            "Epoch: 6, Batch: 30, Avg. Loss: 0.07643378488719463\n",
            "Epoch: 6, Batch: 40, Avg. Loss: 0.07402700558304787\n",
            "Epoch: 6, Batch: 50, Avg. Loss: 0.07698949016630649\n",
            "Epoch: 6, Batch: 60, Avg. Loss: 0.07525850869715214\n",
            "Epoch: 6, Batch: 70, Avg. Loss: 0.0735125333070755\n",
            "Epoch: 6, Batch: 80, Avg. Loss: 0.06902503073215485\n",
            "Epoch: 7, Batch: 10, Avg. Loss: 0.06490285657346248\n",
            "Epoch: 7, Batch: 20, Avg. Loss: 0.06856423318386078\n",
            "Epoch: 7, Batch: 30, Avg. Loss: 0.0665951918810606\n",
            "Epoch: 7, Batch: 40, Avg. Loss: 0.06186247617006302\n",
            "Epoch: 7, Batch: 50, Avg. Loss: 0.07611078135669232\n",
            "Epoch: 7, Batch: 60, Avg. Loss: 0.06609626337885857\n",
            "Epoch: 7, Batch: 70, Avg. Loss: 0.07225880771875381\n",
            "Epoch: 7, Batch: 80, Avg. Loss: 0.07090603597462178\n",
            "Epoch: 8, Batch: 10, Avg. Loss: 0.069974122941494\n",
            "Epoch: 8, Batch: 20, Avg. Loss: 0.07145812064409256\n",
            "Epoch: 8, Batch: 30, Avg. Loss: 0.07139850743114948\n",
            "Epoch: 8, Batch: 40, Avg. Loss: 0.06590665765106678\n",
            "Epoch: 8, Batch: 50, Avg. Loss: 0.05978045240044594\n",
            "Epoch: 8, Batch: 60, Avg. Loss: 0.0662955678999424\n",
            "Epoch: 8, Batch: 70, Avg. Loss: 0.06003224588930607\n",
            "Epoch: 8, Batch: 80, Avg. Loss: 0.07318259850144386\n",
            "Epoch: 9, Batch: 10, Avg. Loss: 0.06972323022782803\n",
            "Epoch: 9, Batch: 20, Avg. Loss: 0.06213968507945537\n",
            "Epoch: 9, Batch: 30, Avg. Loss: 0.05991714484989643\n",
            "Epoch: 9, Batch: 40, Avg. Loss: 0.058418849110603334\n",
            "Epoch: 9, Batch: 50, Avg. Loss: 0.05798120871186256\n",
            "Epoch: 9, Batch: 60, Avg. Loss: 0.061318793892860414\n",
            "Epoch: 9, Batch: 70, Avg. Loss: 0.05996944382786751\n",
            "Epoch: 9, Batch: 80, Avg. Loss: 0.05922883749008179\n",
            "Epoch: 10, Batch: 10, Avg. Loss: 0.0647850975394249\n",
            "Epoch: 10, Batch: 20, Avg. Loss: 0.05765835791826248\n",
            "Epoch: 10, Batch: 30, Avg. Loss: 0.060918991640210154\n",
            "Epoch: 10, Batch: 40, Avg. Loss: 0.06279147043824196\n",
            "Epoch: 10, Batch: 50, Avg. Loss: 0.05361880250275135\n",
            "Epoch: 10, Batch: 60, Avg. Loss: 0.05519059076905251\n",
            "Epoch: 10, Batch: 70, Avg. Loss: 0.05244210250675678\n",
            "Epoch: 10, Batch: 80, Avg. Loss: 0.05318109393119812\n",
            "Epoch: 11, Batch: 10, Avg. Loss: 0.057594473287463185\n",
            "Epoch: 11, Batch: 20, Avg. Loss: 0.054305560514330865\n",
            "Epoch: 11, Batch: 30, Avg. Loss: 0.05523100309073925\n",
            "Epoch: 11, Batch: 40, Avg. Loss: 0.05042749643325806\n",
            "Epoch: 11, Batch: 50, Avg. Loss: 0.05519646592438221\n",
            "Epoch: 11, Batch: 60, Avg. Loss: 0.0449158038944006\n",
            "Epoch: 11, Batch: 70, Avg. Loss: 0.050677177309989926\n",
            "Epoch: 11, Batch: 80, Avg. Loss: 0.045605029165744784\n",
            "Epoch: 12, Batch: 10, Avg. Loss: 0.05037536323070526\n",
            "Epoch: 12, Batch: 20, Avg. Loss: 0.0514629527926445\n",
            "Epoch: 12, Batch: 30, Avg. Loss: 0.04597957544028759\n",
            "Epoch: 12, Batch: 40, Avg. Loss: 0.046862585470080376\n",
            "Epoch: 12, Batch: 50, Avg. Loss: 0.051559950411319735\n",
            "Epoch: 12, Batch: 60, Avg. Loss: 0.045237128436565396\n",
            "Epoch: 12, Batch: 70, Avg. Loss: 0.06374585963785648\n",
            "Epoch: 12, Batch: 80, Avg. Loss: 0.04627848528325558\n",
            "Epoch: 13, Batch: 10, Avg. Loss: 0.04623848088085651\n",
            "Epoch: 13, Batch: 20, Avg. Loss: 0.04489312209188938\n",
            "Epoch: 13, Batch: 30, Avg. Loss: 0.0480548731982708\n",
            "Epoch: 13, Batch: 40, Avg. Loss: 0.04599382169544697\n",
            "Epoch: 13, Batch: 50, Avg. Loss: 0.04516157358884811\n",
            "Epoch: 13, Batch: 60, Avg. Loss: 0.04447227194905281\n",
            "Epoch: 13, Batch: 70, Avg. Loss: 0.043514537066221236\n",
            "Epoch: 13, Batch: 80, Avg. Loss: 0.04386684335768223\n",
            "Epoch: 14, Batch: 10, Avg. Loss: 0.04413470476865768\n",
            "Epoch: 14, Batch: 20, Avg. Loss: 0.04072786420583725\n",
            "Epoch: 14, Batch: 30, Avg. Loss: 0.04822010304778814\n",
            "Epoch: 14, Batch: 40, Avg. Loss: 0.043493952602148056\n",
            "Epoch: 14, Batch: 50, Avg. Loss: 0.043593762814998625\n",
            "Epoch: 14, Batch: 60, Avg. Loss: 0.048407790064811704\n",
            "Epoch: 14, Batch: 70, Avg. Loss: 0.04030520413070917\n",
            "Epoch: 14, Batch: 80, Avg. Loss: 0.04412200301885605\n",
            "Epoch: 15, Batch: 10, Avg. Loss: 0.03866966888308525\n",
            "Epoch: 15, Batch: 20, Avg. Loss: 0.0419485367834568\n",
            "Epoch: 15, Batch: 30, Avg. Loss: 0.03885700963437557\n",
            "Epoch: 15, Batch: 40, Avg. Loss: 0.03650975096970797\n",
            "Epoch: 15, Batch: 50, Avg. Loss: 0.03793618604540825\n",
            "Epoch: 15, Batch: 60, Avg. Loss: 0.035149538330733775\n",
            "Epoch: 15, Batch: 70, Avg. Loss: 0.03692776076495648\n",
            "Epoch: 15, Batch: 80, Avg. Loss: 0.0365775179117918\n",
            "Epoch: 16, Batch: 10, Avg. Loss: 0.0364939933642745\n",
            "Epoch: 16, Batch: 20, Avg. Loss: 0.038358661346137524\n",
            "Epoch: 16, Batch: 30, Avg. Loss: 0.03581627141684294\n",
            "Epoch: 16, Batch: 40, Avg. Loss: 0.036383002251386645\n",
            "Epoch: 16, Batch: 50, Avg. Loss: 0.0392348138615489\n",
            "Epoch: 16, Batch: 60, Avg. Loss: 0.033734907023608686\n",
            "Epoch: 16, Batch: 70, Avg. Loss: 0.03581420313566923\n",
            "Epoch: 16, Batch: 80, Avg. Loss: 0.03597044348716736\n",
            "Epoch: 17, Batch: 10, Avg. Loss: 0.0336922625079751\n",
            "Epoch: 17, Batch: 20, Avg. Loss: 0.03388771209865808\n",
            "Epoch: 17, Batch: 30, Avg. Loss: 0.03406746629625559\n",
            "Epoch: 17, Batch: 40, Avg. Loss: 0.029183205030858517\n",
            "Epoch: 17, Batch: 50, Avg. Loss: 0.03137809969484806\n",
            "Epoch: 17, Batch: 60, Avg. Loss: 0.030685062147676946\n",
            "Epoch: 17, Batch: 70, Avg. Loss: 0.03294638842344284\n",
            "Epoch: 17, Batch: 80, Avg. Loss: 0.03158754166215658\n",
            "Epoch: 18, Batch: 10, Avg. Loss: 0.028594580292701722\n",
            "Epoch: 18, Batch: 20, Avg. Loss: 0.043781911954283714\n",
            "Epoch: 18, Batch: 30, Avg. Loss: 0.03131519965827465\n",
            "Epoch: 18, Batch: 40, Avg. Loss: 0.030697578005492686\n",
            "Epoch: 18, Batch: 50, Avg. Loss: 0.028452801890671252\n",
            "Epoch: 18, Batch: 60, Avg. Loss: 0.03284772727638483\n",
            "Epoch: 18, Batch: 70, Avg. Loss: 0.030333601124584674\n",
            "Epoch: 18, Batch: 80, Avg. Loss: 0.029761186242103575\n",
            "Epoch: 19, Batch: 10, Avg. Loss: 0.027431412786245345\n",
            "Epoch: 19, Batch: 20, Avg. Loss: 0.029820320196449757\n",
            "Epoch: 19, Batch: 30, Avg. Loss: 0.026829356513917445\n",
            "Epoch: 19, Batch: 40, Avg. Loss: 0.029205148667097093\n",
            "Epoch: 19, Batch: 50, Avg. Loss: 0.026001101173460484\n",
            "Epoch: 19, Batch: 60, Avg. Loss: 0.026853619329631328\n",
            "Epoch: 19, Batch: 70, Avg. Loss: 0.0345600662752986\n",
            "Epoch: 19, Batch: 80, Avg. Loss: 0.026822877302765846\n",
            "Epoch: 20, Batch: 10, Avg. Loss: 0.025683174282312392\n",
            "Epoch: 20, Batch: 20, Avg. Loss: 0.02973169106990099\n",
            "Epoch: 20, Batch: 30, Avg. Loss: 0.03344369865953922\n",
            "Epoch: 20, Batch: 40, Avg. Loss: 0.027733263932168482\n",
            "Epoch: 20, Batch: 50, Avg. Loss: 0.032052239216864106\n",
            "Epoch: 20, Batch: 60, Avg. Loss: 0.02490086741745472\n",
            "Epoch: 20, Batch: 70, Avg. Loss: 0.027730989456176757\n",
            "Epoch: 20, Batch: 80, Avg. Loss: 0.02791749592870474\n",
            "Epoch: 21, Batch: 10, Avg. Loss: 0.023815948329865933\n",
            "Epoch: 21, Batch: 20, Avg. Loss: 0.02794412225484848\n",
            "Epoch: 21, Batch: 30, Avg. Loss: 0.034009174443781376\n",
            "Epoch: 21, Batch: 40, Avg. Loss: 0.02422594204545021\n",
            "Epoch: 21, Batch: 50, Avg. Loss: 0.03633551187813282\n",
            "Epoch: 21, Batch: 60, Avg. Loss: 0.025099630653858184\n",
            "Epoch: 21, Batch: 70, Avg. Loss: 0.025790479592978956\n",
            "Epoch: 21, Batch: 80, Avg. Loss: 0.023368757963180543\n",
            "Epoch: 22, Batch: 10, Avg. Loss: 0.02516776937991381\n",
            "Epoch: 22, Batch: 20, Avg. Loss: 0.02085798531770706\n",
            "Epoch: 22, Batch: 30, Avg. Loss: 0.022721032612025738\n",
            "Epoch: 22, Batch: 40, Avg. Loss: 0.021673902124166488\n",
            "Epoch: 22, Batch: 50, Avg. Loss: 0.027213630452752113\n",
            "Epoch: 22, Batch: 60, Avg. Loss: 0.028422676771879197\n",
            "Epoch: 22, Batch: 70, Avg. Loss: 0.022366124391555785\n",
            "Epoch: 22, Batch: 80, Avg. Loss: 0.02724529951810837\n",
            "Epoch: 23, Batch: 10, Avg. Loss: 0.02288047466427088\n",
            "Epoch: 23, Batch: 20, Avg. Loss: 0.023446773923933507\n",
            "Epoch: 23, Batch: 30, Avg. Loss: 0.018816050700843336\n",
            "Epoch: 23, Batch: 40, Avg. Loss: 0.02397340927273035\n",
            "Epoch: 23, Batch: 50, Avg. Loss: 0.02310487637296319\n",
            "Epoch: 23, Batch: 60, Avg. Loss: 0.02494001928716898\n",
            "Epoch: 23, Batch: 70, Avg. Loss: 0.022552970238029955\n",
            "Epoch: 23, Batch: 80, Avg. Loss: 0.020409608632326125\n",
            "Epoch: 24, Batch: 10, Avg. Loss: 0.026247572712600233\n",
            "Epoch: 24, Batch: 20, Avg. Loss: 0.019637116231024265\n",
            "Epoch: 24, Batch: 30, Avg. Loss: 0.018118225131183864\n",
            "Epoch: 24, Batch: 40, Avg. Loss: 0.02121195653453469\n",
            "Epoch: 24, Batch: 50, Avg. Loss: 0.022050432208925486\n",
            "Epoch: 24, Batch: 60, Avg. Loss: 0.01840939885005355\n",
            "Epoch: 24, Batch: 70, Avg. Loss: 0.01834812415763736\n",
            "Epoch: 24, Batch: 80, Avg. Loss: 0.019408183358609676\n",
            "Epoch: 25, Batch: 10, Avg. Loss: 0.02121874373406172\n",
            "Epoch: 25, Batch: 20, Avg. Loss: 0.020228022430092096\n",
            "Epoch: 25, Batch: 30, Avg. Loss: 0.021680084615945817\n",
            "Epoch: 25, Batch: 40, Avg. Loss: 0.020798604749143124\n",
            "Epoch: 25, Batch: 50, Avg. Loss: 0.0211153082549572\n",
            "Epoch: 25, Batch: 60, Avg. Loss: 0.02125138733536005\n",
            "Epoch: 25, Batch: 70, Avg. Loss: 0.017430576495826244\n",
            "Epoch: 25, Batch: 80, Avg. Loss: 0.025629504956305026\n",
            "Epoch: 26, Batch: 10, Avg. Loss: 0.01582513116300106\n",
            "Epoch: 26, Batch: 20, Avg. Loss: 0.021067470125854016\n",
            "Epoch: 26, Batch: 30, Avg. Loss: 0.02111390857025981\n",
            "Epoch: 26, Batch: 40, Avg. Loss: 0.017577739804983138\n",
            "Epoch: 26, Batch: 50, Avg. Loss: 0.01597962826490402\n",
            "Epoch: 26, Batch: 60, Avg. Loss: 0.016415840480476618\n",
            "Epoch: 26, Batch: 70, Avg. Loss: 0.01844894541427493\n",
            "Epoch: 26, Batch: 80, Avg. Loss: 0.015095612686127424\n",
            "Epoch: 27, Batch: 10, Avg. Loss: 0.01597802620381117\n",
            "Epoch: 27, Batch: 20, Avg. Loss: 0.015433985181152821\n",
            "Epoch: 27, Batch: 30, Avg. Loss: 0.01763590145856142\n",
            "Epoch: 27, Batch: 40, Avg. Loss: 0.016741550527513027\n",
            "Epoch: 27, Batch: 50, Avg. Loss: 0.0219490054063499\n",
            "Epoch: 27, Batch: 60, Avg. Loss: 0.02319171605631709\n",
            "Epoch: 27, Batch: 70, Avg. Loss: 0.01653511868789792\n",
            "Epoch: 27, Batch: 80, Avg. Loss: 0.01718712653964758\n",
            "Epoch: 28, Batch: 10, Avg. Loss: 0.01578857032582164\n",
            "Epoch: 28, Batch: 20, Avg. Loss: 0.016338424384593965\n",
            "Epoch: 28, Batch: 30, Avg. Loss: 0.01594418501481414\n",
            "Epoch: 28, Batch: 40, Avg. Loss: 0.014988866169005632\n",
            "Epoch: 28, Batch: 50, Avg. Loss: 0.014782755076885224\n",
            "Epoch: 28, Batch: 60, Avg. Loss: 0.01706158062443137\n",
            "Epoch: 28, Batch: 70, Avg. Loss: 0.01876151291653514\n",
            "Epoch: 28, Batch: 80, Avg. Loss: 0.018505667708814143\n",
            "Epoch: 29, Batch: 10, Avg. Loss: 0.016404429078102113\n",
            "Epoch: 29, Batch: 20, Avg. Loss: 0.015151730552315713\n",
            "Epoch: 29, Batch: 30, Avg. Loss: 0.022579457331448793\n",
            "Epoch: 29, Batch: 40, Avg. Loss: 0.016211572196334602\n",
            "Epoch: 29, Batch: 50, Avg. Loss: 0.01587768942117691\n",
            "Epoch: 29, Batch: 60, Avg. Loss: 0.014601490925997496\n",
            "Epoch: 29, Batch: 70, Avg. Loss: 0.018107249401509762\n",
            "Epoch: 29, Batch: 80, Avg. Loss: 0.013536504469811916\n",
            "Epoch: 30, Batch: 10, Avg. Loss: 0.021548776142299175\n",
            "Epoch: 30, Batch: 20, Avg. Loss: 0.013552757166326045\n",
            "Epoch: 30, Batch: 30, Avg. Loss: 0.017749593313783407\n",
            "Epoch: 30, Batch: 40, Avg. Loss: 0.01616377932950854\n",
            "Epoch: 30, Batch: 50, Avg. Loss: 0.019513510260730983\n",
            "Epoch: 30, Batch: 60, Avg. Loss: 0.013253777660429478\n",
            "Epoch: 30, Batch: 70, Avg. Loss: 0.016216162592172623\n",
            "Epoch: 30, Batch: 80, Avg. Loss: 0.017896978370845317\n",
            "Finished Training\n"
          ],
          "name": "stdout"
        }
      ]
    },
    {
      "metadata": {
        "id": "i-0Et8zcCIXJ",
        "colab_type": "code",
        "outputId": "feaef945-fc11-40b0-c78d-45448f082164",
        "colab": {
          "base_uri": "https://localhost:8080/",
          "height": 68
        }
      },
      "cell_type": "code",
      "source": [
        "# get a sample of test data again\n",
        "test_images, test_outputs, gt_pts = net_sample_output()\n",
        "\n",
        "print(test_images.data.size())\n",
        "print(test_outputs.data.size())\n",
        "print(gt_pts.size())"
      ],
      "execution_count": 82,
      "outputs": [
        {
          "output_type": "stream",
          "text": [
            "torch.Size([40, 1, 227, 227])\n",
            "torch.Size([40, 68, 2])\n",
            "torch.Size([40, 68, 2])\n"
          ],
          "name": "stdout"
        }
      ]
    },
    {
      "metadata": {
        "id": "tHc8r571CPKp",
        "colab_type": "code",
        "outputId": "f8c7cf3b-2723-419b-d35b-126284ae7c65",
        "colab": {
          "base_uri": "https://localhost:8080/",
          "height": 657
        }
      },
      "cell_type": "code",
      "source": [
        "## TODO: visualize your test output\n",
        "# you can use the same function as before, by un-commenting the line below:\n",
        "\n",
        "visualize_output(test_images, test_outputs, gt_pts)"
      ],
      "execution_count": 83,
      "outputs": [
        {
          "output_type": "display_data",
          "data": {
            "image/png": "[encoded data removed]",
            "text/plain": [
              "<Figure size 1440x720 with 1 Axes>"
            ]
          },
          "metadata": {
            "tags": []
          }
        },
        {
          "output_type": "display_data",
          "data": {
            "image/png": "[encoded data removed]",
            "text/plain": [
              "<Figure size 1440x720 with 1 Axes>"
            ]
          },
          "metadata": {
            "tags": []
          }
        },
        {
          "output_type": "display_data",
          "data": {
            "image/png": "[encoded data removed]",
            "text/plain": [
              "<Figure size 1440x720 with 1 Axes>"
            ]
          },
          "metadata": {
            "tags": []
          }
        },
        {
          "output_type": "display_data",
          "data": {
            "image/png": "[encoded data removed]",
            "text/plain": [
              "<Figure size 1440x720 with 1 Axes>"
            ]
          },
          "metadata": {
            "tags": []
          }
        },
        {
          "output_type": "display_data",
          "data": {
            "image/png": "[encoded data removed]",
            "text/plain": [
              "<Figure size 1440x720 with 1 Axes>"
            ]
          },
          "metadata": {
            "tags": []
          }
        }
      ]
    },
    {
      "metadata": {
        "id": "iuzJNeabCg9U",
        "colab_type": "code",
        "colab": {}
      },
      "cell_type": "code",
      "source": [
        "\n",
        "#!mkdir saved_models\n",
        "model_dir = 'saved_models/'\n",
        "model_name = 'keypoints_model_2.pt'\n",
        "\n",
        "# NOTE : saved_models/keypoints_model_1.pt is for the modified LeNet I am finally using.\n",
        "#        saved_models/keypoints_model_0.pt is a previous model that I had used. It is no longer needed.\n",
        "\n",
        "# after training, save your model parameters in the dir 'saved_models'\n",
        "torch.save(net.state_dict(), model_dir+model_name)"
      ],
      "execution_count": 0,
      "outputs": []
    },
    {
      "metadata": {
        "id": "w2-v21qyDUAi",
        "colab_type": "code",
        "outputId": "a9c01291-f100-4d82-8b11-11d53e2c5158",
        "colab": {
          "base_uri": "https://localhost:8080/",
          "height": 470
        }
      },
      "cell_type": "code",
      "source": [
        "# Get the weights in the first conv layer, \"conv1\"\n",
        "# if necessary, change this to reflect the name of your first conv layer\n",
        "weights1 = net.conv1.weight.data\n",
        "\n",
        "w = weights1.cpu().numpy()\n",
        "\n",
        "filter_index = 11\n",
        "\n",
        "print(\"Filter :\")\n",
        "print(w[filter_index][0])\n",
        "print(\"Shape : \" + str(w[filter_index][0].shape))\n",
        "\n",
        "# display the filter weights\n",
        "plt.imshow(w[filter_index][0], cmap='gray')"
      ],
      "execution_count": 87,
      "outputs": [
        {
          "output_type": "stream",
          "text": [
            "Filter :\n",
            "[[-0.04668201 -0.05926383 -0.02887374 -0.03357554]\n",
            " [ 0.03872482 -0.0396721   0.0289996   0.02168359]\n",
            " [-0.00604953  0.0029878  -0.01465029  0.06085439]\n",
            " [ 0.07032593  0.01298657  0.01230183 -0.01158715]]\n",
            "Shape : (4, 4)\n"
          ],
          "name": "stdout"
        },
        {
          "output_type": "execute_result",
          "data": {
            "text/plain": [
              "<matplotlib.image.AxesImage at 0x7f84906b3438>"
            ]
          },
          "metadata": {
            "tags": []
          },
          "execution_count": 87
        },
        {
          "output_type": "display_data",
          "data": {
            "image/png": "[encoded data removed]",
            "text/plain": [
              "<Figure size 576x396 with 1 Axes>"
            ]
          },
          "metadata": {
            "tags": []
          }
        }
      ]
    },
    {
      "metadata": {
        "id": "KOSI-EEOD58Q",
        "colab_type": "code",
        "colab": {
          "base_uri": "https://localhost:8080/",
          "height": 224
        },
        "outputId": "b4f01e58-03da-4b32-e6ad-e75c08328dd1"
      },
      "cell_type": "code",
      "source": [
        "#!mkdir /data/images\n",
        "!wget -P /data/images/ https://github.com/iamshnoo/Udacity-CVND-P1---Facial-Keypoint-Detection/blob/master/images/mona_lisa.jpg"
      ],
      "execution_count": 98,
      "outputs": [
        {
          "output_type": "stream",
          "text": [
            "--2019-03-26 10:35:08--  https://github.com/iamshnoo/Udacity-CVND-P1---Facial-Keypoint-Detection/blob/master/images/mona_lisa.jpg\n",
            "Resolving github.com (github.com)... 192.30.253.112, 192.30.253.113\n",
            "Connecting to github.com (github.com)|192.30.253.112|:443... connected.\n",
            "HTTP request sent, awaiting response... 200 OK\n",
            "Length: unspecified [text/html]\n",
            "Saving to: ‘/data/images/mona_lisa.jpg’\n",
            "\n",
            "\rmona_lisa.jpg           [<=>                 ]       0  --.-KB/s               \rmona_lisa.jpg           [ <=>                ]  57.24K  --.-KB/s    in 0.03s   \n",
            "\n",
            "2019-03-26 10:35:09 (2.19 MB/s) - ‘/data/images/mona_lisa.jpg’ saved [58617]\n",
            "\n"
          ],
          "name": "stdout"
        }
      ]
    },
    {
      "metadata": {
        "id": "bow_8jmcDr25",
        "colab_type": "code",
        "outputId": "d89608ca-766b-4aa4-d7bf-f245105e7c02",
        "colab": {
          "base_uri": "https://localhost:8080/",
          "height": 452
        }
      },
      "cell_type": "code",
      "source": [
        "##TODO: load in and display any image from the transformed test dataset\n",
        "\n",
        "## TODO: Using cv's filter2D function,\n",
        "## apply a specific set of filter weights (like the one displayed above) to the test image\n",
        "import cv2\n",
        "\n",
        "weights1 = net.conv1.weight.data\n",
        "\n",
        "w = weights1.cpu().numpy()\n",
        "\n",
        "filter_index = 1\n",
        "\n",
        "print(w[filter_index][0])\n",
        "print(w[filter_index][0].shape)\n",
        "\n",
        "# display the filter weights\n",
        "# plt.imshow(w[filter_index][0], cmap='gray')\n",
        "\n",
        "\n",
        "idx_img = 10\n",
        "img = np.squeeze(test_images[idx_img].data.cpu().numpy())\n",
        "\n",
        "# plt.imshow(img, cmap=\"gray\")\n",
        "\n",
        "filtered_img = cv2.filter2D(img, -1, w[filter_index][0])\n",
        "plt.imshow(filtered_img, cmap=\"gray\")"
      ],
      "execution_count": 125,
      "outputs": [
        {
          "output_type": "stream",
          "text": [
            "[[-0.00657063 -0.0432454   0.02237284  0.00257381]\n",
            " [ 0.03115582  0.01097753  0.07182786  0.04757997]\n",
            " [-0.01688039  0.0101563   0.0625659   0.02398661]\n",
            " [ 0.00101425  0.02390072 -0.04561418  0.0569915 ]]\n",
            "(4, 4)\n"
          ],
          "name": "stdout"
        },
        {
          "output_type": "execute_result",
          "data": {
            "text/plain": [
              "<matplotlib.image.AxesImage at 0x7f8492982f28>"
            ]
          },
          "metadata": {
            "tags": []
          },
          "execution_count": 125
        },
        {
          "output_type": "display_data",
          "data": {
            "image/png": "[encoded data removed]",
            "text/plain": [
              "<Figure size 576x396 with 1 Axes>"
            ]
          },
          "metadata": {
            "tags": []
          }
        }
      ]
    },
    {
      "metadata": {
        "id": "sVPbaNuaD200",
        "colab_type": "code",
        "colab": {}
      },
      "cell_type": "code",
      "source": [
        ""
      ],
      "execution_count": 0,
      "outputs": []
    }
  ]
}